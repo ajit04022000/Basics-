{
  "nbformat": 4,
  "nbformat_minor": 0,
  "metadata": {
    "colab": {
      "name": "Untitled1.ipynb",
      "provenance": [],
      "authorship_tag": "ABX9TyNG6Y7VqnQjXFJGJh3/BfHQ",
      "include_colab_link": true
    },
    "kernelspec": {
      "name": "python3",
      "display_name": "Python 3"
    },
    "language_info": {
      "name": "python"
    }
  },
  "cells": [
    {
      "cell_type": "markdown",
      "metadata": {
        "id": "view-in-github",
        "colab_type": "text"
      },
      "source": [
        "<a href=\"https://colab.research.google.com/github/ajit04022000/Basics-/blob/main/Untitled1.ipynb\" target=\"_parent\"><img src=\"https://colab.research.google.com/assets/colab-badge.svg\" alt=\"Open In Colab\"/></a>"
      ]
    },
    {
      "cell_type": "code",
      "execution_count": null,
      "metadata": {
        "id": "DdvM3HraszDy"
      },
      "outputs": [],
      "source": [
        "# fig = plt.figure(figsize = (25,20))\n",
        "# ax = fig.gca()\n",
        "# df.hist(ax = ax)"
      ]
    },
    {
      "cell_type": "code",
      "source": [
        "# for col in numerical_feature:\n",
        "#   fig = plt.figure(figsize=(10,10))\n",
        "#   ax = fig.gca()\n",
        "#   feature = df[col]\n",
        "#   feature.hist(bins=50, ax = ax)\n",
        "#   ax.axvline(feature.mean(), color='magenta', linestyle='dashed', linewidth=2)\n",
        "#   ax.axvline(feature.median(), color='cyan', linestyle='dashed', linewidth=2)    \n",
        "#   ax.set_title(col)\n",
        "# plt.show()"
      ],
      "metadata": {
        "id": "lkr0uNVds3zR"
      },
      "execution_count": null,
      "outputs": []
    },
    {
      "cell_type": "code",
      "source": [
        "# for col in numerical_feature[2:]:\n",
        "#     fig = plt.figure(figsize=(9, 6))\n",
        "#     ax = fig.gca()\n",
        "#     feature = np.sqrt(df[col])\n",
        "#     feature.hist(bins=50, ax = ax)\n",
        "#     ax.axvline(feature.mean(), color='magenta', linestyle='dashed', linewidth=2)\n",
        "#     ax.axvline(feature.median(), color='cyan', linestyle='dashed', linewidth=2)    \n",
        "#     ax.set_title(col)\n",
        "# plt.show()"
      ],
      "metadata": {
        "id": "P32vHkdYs6eU"
      },
      "execution_count": null,
      "outputs": []
    },
    {
      "cell_type": "code",
      "source": [
        "# for col in numerical_feature[2:]:\n",
        "#     fig = plt.figure(figsize=(9, 6))\n",
        "#     ax = fig.gca()\n",
        "#     feature = np.log(df[col])\n",
        "#     feature.hist(bins=50, ax = ax)\n",
        "#     ax.axvline(feature.mean(), color='magenta', linestyle='dashed', linewidth=2)\n",
        "#     ax.axvline(feature.median(), color='cyan', linestyle='dashed', linewidth=2)    \n",
        "#     ax.set_title(col)\n",
        "# plt.show()"
      ],
      "metadata": {
        "id": "2RymWRlgs9Ay"
      },
      "execution_count": null,
      "outputs": []
    },
    {
      "cell_type": "code",
      "source": [
        "# for col in numerical_feature[1:-1]:\n",
        "#     fig = plt.figure(figsize=(9, 6))\n",
        "#     ax = fig.gca()\n",
        "#     feature = df[col]\n",
        "#     label = df['price']\n",
        "#     correlation = feature.corr(label)\n",
        "#     plt.scatter(x=feature, y=label)\n",
        "#     plt.xlabel(col)\n",
        "#     plt.ylabel('Price')\n",
        "#     ax.set_title('price vs ' + col + '- correlation: ' + str(correlation))\n",
        "#     z = np.polyfit(df[col], df['price'], 1)\n",
        "#     y_hat = np.poly1d(z)(df[col])\n",
        "\n",
        "#     plt.plot(df[col], y_hat, \"r--\", lw=1)\n",
        "\n",
        "# plt.show()"
      ],
      "metadata": {
        "id": "M5M4Ojars_3F"
      },
      "execution_count": null,
      "outputs": []
    }
  ]
}